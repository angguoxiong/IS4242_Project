{
 "cells": [
  {
   "cell_type": "code",
   "execution_count": 1,
   "id": "60b4cdf4",
   "metadata": {},
   "outputs": [],
   "source": [
    "import requests\n",
    "from bs4 import BeautifulSoup\n",
    "import csv\n",
    "import pandas as pd\n",
    "import re\n",
    "import collections"
   ]
  },
  {
   "cell_type": "code",
   "execution_count": 4,
   "id": "bc61f443",
   "metadata": {},
   "outputs": [],
   "source": [
    "base_url = 'https://www.imdb.com'\n",
    "user_ids = ['ur117926588', 'ur15298231', 'ur1994077', 'ur17646017', 'ur4532636', 'ur22171966',\n",
    "           'ur3223254', 'ur66111139', 'ur63040106', 'ur84924605', 'ur4103165', \n",
    "           'ur59627333', 'ur98435364', 'ur65836273','ur44059846', 'ur7813355', \n",
    "           'ur98240498', 'ur59184301', 'ur57691865', 'ur3793011']\n",
    "top_3_ratings = []"
   ]
  },
  {
   "cell_type": "code",
   "execution_count": 5,
   "id": "1aa7c3f7",
   "metadata": {},
   "outputs": [],
   "source": [
    "for user_id in user_ids:\n",
    "    url = f'{base_url}/user/{user_id}/?ref_=tt_urv'\n",
    "    response = requests.get(url)\n",
    "    soup = BeautifulSoup(response.content, \"html.parser\")\n",
    "\n",
    "    # find all rows in histogram\n",
    "    histogram = soup.find(\"div\", {\"class\": \"histogram-vertical\"})\n",
    "    rows = histogram.find_all(\"div\", {\"class\": \"row\"})\n",
    "\n",
    "    # find all rows in year histogram\n",
    "    histograms = soup.find_all(\"div\", {\"class\": \"histogram-vertical\"})\n",
    "    year_histogram = histograms[1].find_all(\"div\", {\"class\": \"row\"})\n",
    "\n",
    "    # initialize genre and year scores\n",
    "    genre_scores = collections.defaultdict(int)\n",
    "    year_scores = collections.defaultdict(int)\n",
    "\n",
    "    # loop through rows and extract genre and year scores\n",
    "    for row in rows:\n",
    "        r = row.find_all(\"div\", {\"class\": \"count\"})\n",
    "        score = r[0].text.strip()\n",
    "        count = r[1].text.strip()\n",
    "        genre = row.find(\"div\", {\"class\": \"key\"}).text.strip()\n",
    "        genre_scores[genre] += float(score)\n",
    "\n",
    "    for row in year_histogram:\n",
    "        r = row.find_all(\"div\", {\"class\": \"count\"})\n",
    "        score = r[0].text.strip()\n",
    "        count = r[1].text.strip()\n",
    "        year = row.find(\"div\", {\"class\": \"key\"}).text.strip()\n",
    "        year_scores[year] += float(score)\n",
    "\n",
    "    # find top 3 genres and years\n",
    "    top_genres = [genre for genre, score in sorted(genre_scores.items(), key=lambda x: x[1], reverse=True)[:3]]\n",
    "    top_years = [year for year, score in sorted(year_scores.items(), key=lambda x: x[1], reverse=True)[:3]]\n",
    "\n",
    "    # create top_3_ratings list\n",
    "    top_3_ratings.append({\"UserID\":user_id, \"Top 3 Genres\": top_genres, \"Top 3 Years\": top_years})\n",
    "\n"
   ]
  },
  {
   "cell_type": "code",
   "execution_count": 6,
   "id": "06a2509d",
   "metadata": {},
   "outputs": [],
   "source": [
    "# create dataframe\n",
    "df = pd.DataFrame(top_3_ratings)"
   ]
  },
  {
   "cell_type": "code",
   "execution_count": null,
   "id": "3ee504eb",
   "metadata": {},
   "outputs": [],
   "source": [
    "# export dataframe\n",
    "df.to_csv(\"user_movie_preferences_20users.csv\", index = False, encoding='utf-8-sig')"
   ]
  }
 ],
 "metadata": {
  "kernelspec": {
   "display_name": "Python 3 (ipykernel)",
   "language": "python",
   "name": "python3"
  },
  "language_info": {
   "codemirror_mode": {
    "name": "ipython",
    "version": 3
   },
   "file_extension": ".py",
   "mimetype": "text/x-python",
   "name": "python",
   "nbconvert_exporter": "python",
   "pygments_lexer": "ipython3",
   "version": "3.9.7"
  }
 },
 "nbformat": 4,
 "nbformat_minor": 5
}
