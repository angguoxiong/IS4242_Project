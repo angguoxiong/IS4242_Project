{
 "cells": [
  {
   "cell_type": "code",
   "execution_count": 1,
   "metadata": {},
   "outputs": [],
   "source": [
    "import numpy as np\n",
    "import pandas as pd\n",
    "from scrapy.selector import Selector\n",
    "from selenium import webdriver \n",
    "from webdriver_manager.chrome import ChromeDriverManager\n",
    "from selenium.webdriver.common.by import By\n",
    "import time\n",
    "from tqdm import tqdm\n",
    "import warnings\n",
    "warnings.filterwarnings(\"ignore\")"
   ]
  },
  {
   "cell_type": "code",
   "execution_count": 45,
   "metadata": {},
   "outputs": [],
   "source": [
    "# Instantiate the data required in lists\n",
    "users_list = ['ur117926588', 'ur3608743']\n",
    "user_id = []\n",
    "title_list = []\n",
    "description_list = []\n",
    "year_list = []\n",
    "director_list = []\n",
    "star_list = []\n",
    "duration_list = []\n",
    "genre_list = []\n",
    "vote_list = []\n",
    "movie_rating_list = []\n",
    "user_rating_list = []\n",
    "error_msg = []"
   ]
  },
  {
   "cell_type": "code",
   "execution_count": 46,
   "metadata": {},
   "outputs": [
    {
     "name": "stdout",
     "output_type": "stream",
     "text": [
      "Scraping for User 1\n"
     ]
    },
    {
     "name": "stderr",
     "output_type": "stream",
     "text": [
      "100%|████████████████████████████████████████████████████████████████████████████████| 100/100 [00:01<00:00, 56.50it/s]\n",
      "100%|████████████████████████████████████████████████████████████████████████████████| 100/100 [00:01<00:00, 55.71it/s]\n",
      "100%|████████████████████████████████████████████████████████████████████████████████| 100/100 [00:01<00:00, 53.54it/s]\n",
      "100%|████████████████████████████████████████████████████████████████████████████████| 100/100 [00:02<00:00, 47.54it/s]\n",
      "100%|████████████████████████████████████████████████████████████████████████████████| 100/100 [00:01<00:00, 54.15it/s]\n",
      "100%|████████████████████████████████████████████████████████████████████████████████| 100/100 [00:02<00:00, 49.80it/s]\n",
      "100%|████████████████████████████████████████████████████████████████████████████████| 100/100 [00:01<00:00, 53.92it/s]\n",
      "100%|████████████████████████████████████████████████████████████████████████████████| 100/100 [00:01<00:00, 51.28it/s]\n",
      "100%|████████████████████████████████████████████████████████████████████████████████| 100/100 [00:01<00:00, 58.99it/s]\n",
      "100%|████████████████████████████████████████████████████████████████████████████████| 100/100 [00:01<00:00, 58.38it/s]\n",
      "100%|████████████████████████████████████████████████████████████████████████████████| 100/100 [00:01<00:00, 55.41it/s]\n",
      "100%|████████████████████████████████████████████████████████████████████████████████| 100/100 [00:01<00:00, 57.26it/s]\n",
      "100%|████████████████████████████████████████████████████████████████████████████████| 100/100 [00:01<00:00, 57.28it/s]\n",
      "100%|████████████████████████████████████████████████████████████████████████████████| 100/100 [00:02<00:00, 49.85it/s]\n",
      "100%|████████████████████████████████████████████████████████████████████████████████| 100/100 [00:01<00:00, 53.77it/s]\n",
      "100%|████████████████████████████████████████████████████████████████████████████████| 100/100 [00:01<00:00, 56.38it/s]\n",
      "100%|████████████████████████████████████████████████████████████████████████████████| 100/100 [00:02<00:00, 42.25it/s]\n",
      "100%|████████████████████████████████████████████████████████████████████████████████| 100/100 [00:02<00:00, 44.84it/s]\n",
      "100%|████████████████████████████████████████████████████████████████████████████████| 100/100 [00:01<00:00, 57.06it/s]\n",
      "100%|████████████████████████████████████████████████████████████████████████████████| 100/100 [00:01<00:00, 56.18it/s]\n",
      "100%|████████████████████████████████████████████████████████████████████████████████| 100/100 [00:01<00:00, 54.45it/s]\n",
      "100%|████████████████████████████████████████████████████████████████████████████████| 100/100 [00:01<00:00, 62.46it/s]\n",
      "100%|████████████████████████████████████████████████████████████████████████████████| 100/100 [00:01<00:00, 60.87it/s]\n",
      "100%|████████████████████████████████████████████████████████████████████████████████| 100/100 [00:01<00:00, 57.11it/s]\n",
      "100%|████████████████████████████████████████████████████████████████████████████████| 100/100 [00:01<00:00, 58.29it/s]\n",
      "100%|████████████████████████████████████████████████████████████████████████████████| 100/100 [00:02<00:00, 45.67it/s]\n",
      "100%|████████████████████████████████████████████████████████████████████████████████| 100/100 [00:01<00:00, 54.62it/s]\n",
      "100%|████████████████████████████████████████████████████████████████████████████████| 100/100 [00:01<00:00, 59.95it/s]\n",
      "100%|████████████████████████████████████████████████████████████████████████████████| 100/100 [00:01<00:00, 51.90it/s]\n",
      "100%|████████████████████████████████████████████████████████████████████████████████| 100/100 [00:01<00:00, 56.90it/s]\n",
      "100%|████████████████████████████████████████████████████████████████████████████████| 100/100 [00:01<00:00, 57.91it/s]\n",
      "100%|████████████████████████████████████████████████████████████████████████████████| 100/100 [00:01<00:00, 54.76it/s]\n",
      "100%|████████████████████████████████████████████████████████████████████████████████| 100/100 [00:01<00:00, 58.65it/s]\n",
      "100%|████████████████████████████████████████████████████████████████████████████████| 100/100 [00:01<00:00, 58.03it/s]\n",
      "100%|██████████████████████████████████████████████████████████████████████████████████| 77/77 [00:01<00:00, 56.81it/s]\n"
     ]
    },
    {
     "name": "stdout",
     "output_type": "stream",
     "text": [
      "No more pages to browse\n",
      "Scraping for User 2\n"
     ]
    },
    {
     "name": "stderr",
     "output_type": "stream",
     "text": [
      "100%|████████████████████████████████████████████████████████████████████████████████| 100/100 [00:01<00:00, 58.20it/s]\n",
      "100%|████████████████████████████████████████████████████████████████████████████████| 100/100 [00:01<00:00, 62.53it/s]\n",
      "100%|████████████████████████████████████████████████████████████████████████████████| 100/100 [00:01<00:00, 59.80it/s]\n",
      "100%|████████████████████████████████████████████████████████████████████████████████| 100/100 [00:01<00:00, 59.12it/s]\n",
      "100%|████████████████████████████████████████████████████████████████████████████████| 100/100 [00:01<00:00, 60.23it/s]\n",
      "100%|████████████████████████████████████████████████████████████████████████████████| 100/100 [00:01<00:00, 60.66it/s]\n",
      "100%|████████████████████████████████████████████████████████████████████████████████| 100/100 [00:01<00:00, 53.70it/s]\n",
      "100%|████████████████████████████████████████████████████████████████████████████████| 100/100 [00:01<00:00, 58.31it/s]\n",
      "100%|████████████████████████████████████████████████████████████████████████████████| 100/100 [00:01<00:00, 58.48it/s]\n",
      "100%|████████████████████████████████████████████████████████████████████████████████████| 1/1 [00:00<00:00, 52.67it/s]"
     ]
    },
    {
     "name": "stdout",
     "output_type": "stream",
     "text": [
      "No more pages to browse\n"
     ]
    },
    {
     "name": "stderr",
     "output_type": "stream",
     "text": [
      "\n"
     ]
    }
   ],
   "source": [
    "for user in range(len(users_list)):\n",
    "    print(\"Scraping for User {}\".format(user+1))\n",
    "#     driver = webdriver.Chrome('chromedriver.exe')\n",
    "    driver = webdriver.Chrome(ChromeDriverManager().install())\n",
    "    url = 'https://www.imdb.com/user/{}/ratings'.format(users_list[user])\n",
    "    time.sleep(1)\n",
    "    driver.get(url)\n",
    "    time.sleep(1)\n",
    "    \n",
    "    sel = Selector(text = driver.page_source)\n",
    "    num_of_ratings = sel.css(\".lister-list-length span::text\").extract_first().replace(',','').split(' ')[0]\n",
    "    rating_pages = int(int(num_of_ratings)/100) + 1  \n",
    "    user_id += [users_list[user] for i in range(int(num_of_ratings))]\n",
    "\n",
    "    for x in range(rating_pages):\n",
    "        sel = Selector(text = driver.page_source)\n",
    "        reviews = driver.find_elements(By.CSS_SELECTOR, 'div.lister-item-content')\n",
    "        \n",
    "        for review in tqdm(reviews):\n",
    "            try:\n",
    "                sel2 = Selector(text = review.get_attribute('innerHTML'))\n",
    "                \n",
    "                ## Get movie title\n",
    "                try:\n",
    "                    title = sel2.css('a::text').extract_first().strip()\n",
    "                except:\n",
    "                    title= np.NaN\n",
    "                ## Get movie description\n",
    "                try:\n",
    "                    if sel2.css('p::text').getall()[7].strip() == \"\" or sel2.css('p::text').getall()[7].strip() == \",\":\n",
    "                        description = sel2.css('p::text').getall()[5].strip()\n",
    "                    else:\n",
    "                        description = sel2.css('p::text').getall()[7].strip()\n",
    "                except:\n",
    "                    description = np.NaN\n",
    "                ## Get movie year\n",
    "                try:\n",
    "                    year = sel2.css('.lister-item-year.text-muted.unbold::text').extract_first().strip().replace('(','').replace(')','')\n",
    "                except:\n",
    "                    year = np.NaN\n",
    "                ## Get directors and staff\n",
    "                try:\n",
    "                    staff = sel2.css('.text-muted a::text').getall()\n",
    "                    text = sel2.css('.text-muted.text-small::text').getall()\n",
    "                    text2 = [x.strip() for x in text]\n",
    "                    commas = text2.count(',')\n",
    "                    stars_index = text2.index(\"Stars:\")\n",
    "                    count = 0\n",
    "                    for i in range(stars_index, len(text2)-1):\n",
    "                        if text2[i] == ',':\n",
    "                            count+=1\n",
    "                    stars = staff[-(count+1):]\n",
    "                    # if directors are recorded\n",
    "                    if \"Director:\" in text2 or \"Directors:\" in text2:\n",
    "                        directors = staff[:(commas-count)+1]\n",
    "                    else:\n",
    "                        directors = \"\"\n",
    "                except:\n",
    "                    stars = np.NaN\n",
    "                    directors = np.NaN\n",
    "                ## Get movie duration\n",
    "                try:\n",
    "                    duration = sel2.css('.runtime::text').extract_first().strip()\n",
    "                except:\n",
    "                    duration = np.NaN\n",
    "                ## Get Genre\n",
    "                try:\n",
    "                    genre = sel2.css('.genre::text').extract_first().strip()\n",
    "                except:\n",
    "                    genre = np.NaN\n",
    "                ## Get votes\n",
    "                try:\n",
    "                    votes = sel2.css('.text-muted.text-small span::text').getall()[-1]\n",
    "                except:\n",
    "                    votes = np.NaN\n",
    "                ## Get movie rating\n",
    "                try:\n",
    "                    movie_rating = sel2.css('.ipl-rating-star__rating::text').getall()[0].strip()\n",
    "                except:\n",
    "                    movie_rating = np.NaN\n",
    "                ## Get user rating\n",
    "                try:\n",
    "                    user_rating = sel2.css('.ipl-rating-star__rating::text').getall()[1].strip()\n",
    "                except:\n",
    "                    user_rating = np.NaN\n",
    "                \n",
    "                title_list.append(title)\n",
    "                description_list.append(description)\n",
    "                year_list.append(year)\n",
    "                director_list.append(directors)\n",
    "                star_list.append(stars)\n",
    "                duration_list.append(duration)\n",
    "                genre_list.append(genre)\n",
    "                movie_rating_list.append(movie_rating)\n",
    "                user_rating_list.append(user_rating)\n",
    "                \n",
    "            except Exception as e:\n",
    "                error_msg.append(e)\n",
    "        try:\n",
    "            next_page_url = sel.css(\"a.flat-button.lister-page-next.next-page::attr(href)\").extract_first()\n",
    "            driver.get(\"https://www.imdb.com\" + next_page_url)\n",
    "        except:\n",
    "            print(\"No more pages to browse\")"
   ]
  },
  {
   "cell_type": "code",
   "execution_count": 47,
   "metadata": {},
   "outputs": [],
   "source": [
    "# Storing all data in dataframe\n",
    "rating_df = pd.DataFrame({\n",
    "     \"UserID\": user_id,\n",
    "     \"Title\":title_list,\n",
    "     \"Description\":description_list,\n",
    "     \"Year\":year_list,\n",
    "     \"Directors\":director_list,\n",
    "     \"Stars\": star_list,\n",
    "     \"Duration\": duration_list,\n",
    "     \"Genre\": genre_list,\n",
    "     \"Movie_Rating\": movie_rating_list,\n",
    "     \"User_Rating\": user_rating_list})"
   ]
  },
  {
   "cell_type": "code",
   "execution_count": 48,
   "metadata": {},
   "outputs": [],
   "source": [
    "# Export dataset\n",
    "rating_df.to_csv(path_or_buf = \"users_ratings.csv\"\n",
    "                          , index = False )"
   ]
  }
 ],
 "metadata": {
  "kernelspec": {
   "display_name": "Python 3 (ipykernel)",
   "language": "python",
   "name": "python3"
  },
  "language_info": {
   "codemirror_mode": {
    "name": "ipython",
    "version": 3
   },
   "file_extension": ".py",
   "mimetype": "text/x-python",
   "name": "python",
   "nbconvert_exporter": "python",
   "pygments_lexer": "ipython3",
   "version": "3.8.16"
  }
 },
 "nbformat": 4,
 "nbformat_minor": 2
}
