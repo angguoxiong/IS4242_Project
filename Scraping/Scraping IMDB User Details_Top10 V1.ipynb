{
 "cells": [
  {
   "cell_type": "code",
   "execution_count": 5,
   "id": "60b4cdf4",
   "metadata": {},
   "outputs": [],
   "source": [
    "import requests\n",
    "from bs4 import BeautifulSoup\n",
    "import csv\n",
    "import pandas as pd\n",
    "import re"
   ]
  },
  {
   "cell_type": "code",
   "execution_count": 9,
   "id": "bc61f443",
   "metadata": {},
   "outputs": [],
   "source": [
    "# base_url = 'https://www.imdb.com'\n",
    "# user_id = 'ur17402378'\n",
    "# url = f'{base_url}/user/{user_id}/?ref_=tt_urv'"
   ]
  },
  {
   "cell_type": "code",
   "execution_count": 13,
   "id": "753b851f",
   "metadata": {},
   "outputs": [],
   "source": [
    "base_url = 'https://www.imdb.com'\n",
    "user_ids = ['ur17402378', 'ur3608743']\n",
    "top_rated_genres = []\n",
    "\n",
    "for user_id in user_ids:\n",
    "    url = f'{base_url}/user/{user_id}/?ref_=tt_urv'\n",
    "\n",
    "    response = requests.get(url)\n",
    "    soup = BeautifulSoup(response.content, \"html.parser\")\n",
    "\n",
    "    # find all rows in histogram\n",
    "    histogram = soup.find(\"div\", {\"class\": \"histogram-vertical\"})\n",
    "    rows = histogram.find_all(\"div\", {\"class\": \"row\"})\n",
    "\n",
    "    # loop through rows and extract genre and rating\n",
    "    for row in rows:\n",
    "        count_elements = row.find_all(\"div\", {\"class\": \"count\"})\n",
    "        rating = count_elements[0].text.strip()\n",
    "        genre = row.find(\"div\", {\"class\": \"key\"}).text.strip()\n",
    "        count = count_elements[1].text.strip()\n",
    "        top_rated_genres.append({\"User_id\": user_id, \"Genre\":genre, \"Rating\":rating, \"Count\": count})\n",
    "\n",
    "df = pd.DataFrame(top_rated_genres)"
   ]
  },
  {
   "cell_type": "code",
   "execution_count": 15,
   "id": "06a2509d",
   "metadata": {},
   "outputs": [],
   "source": [
    "filename = 'users_top_rated_genres.csv'\n",
    "df.to_csv(filename, index=False)"
   ]
  }
 ],
 "metadata": {
  "kernelspec": {
   "display_name": "Python 3 (ipykernel)",
   "language": "python",
   "name": "python3"
  },
  "language_info": {
   "codemirror_mode": {
    "name": "ipython",
    "version": 3
   },
   "file_extension": ".py",
   "mimetype": "text/x-python",
   "name": "python",
   "nbconvert_exporter": "python",
   "pygments_lexer": "ipython3",
   "version": "3.8.16"
  }
 },
 "nbformat": 4,
 "nbformat_minor": 5
}
