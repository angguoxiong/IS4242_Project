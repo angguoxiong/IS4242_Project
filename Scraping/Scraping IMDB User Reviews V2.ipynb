{
 "cells": [
  {
   "cell_type": "code",
   "execution_count": 2,
   "metadata": {},
   "outputs": [],
   "source": [
    "import numpy as np\n",
    "import pandas as pd\n",
    "from scrapy.selector import Selector\n",
    "from selenium import webdriver \n",
    "from selenium.webdriver.common.by import By\n",
    "#from selenium.webdriver.common.keys import Keys\n",
    "import time\n",
    "from tqdm import tqdm\n",
    "import warnings\n",
    "warnings.filterwarnings(\"ignore\")"
   ]
  },
  {
   "cell_type": "code",
   "execution_count": 3,
   "metadata": {},
   "outputs": [],
   "source": [
    "# Instantiate the data required in lists\n",
    "users_list = ['ur117926588', 'ur3608743']\n",
    "user_id = []\n",
    "movie_title_list = []\n",
    "year_list = []\n",
    "review_title_list = []\n",
    "review_list = []\n",
    "error_msg = []"
   ]
  },
  {
   "cell_type": "code",
   "execution_count": 4,
   "metadata": {},
   "outputs": [
    {
     "name": "stdout",
     "output_type": "stream",
     "text": [
      "Scraping for User 1\n"
     ]
    },
    {
     "name": "stderr",
     "output_type": "stream",
     "text": [
      "100%|██████████| 49/49 [02:52<00:00,  3.51s/it]\n",
      "100%|██████████| 1242/1242 [00:21<00:00, 58.17it/s]\n"
     ]
    },
    {
     "name": "stdout",
     "output_type": "stream",
     "text": [
      "Scraping for User 2\n"
     ]
    },
    {
     "name": "stderr",
     "output_type": "stream",
     "text": [
      "100%|██████████| 35/35 [01:13<00:00,  2.09s/it]\n",
      "100%|██████████| 888/888 [00:11<00:00, 75.43it/s] \n"
     ]
    }
   ],
   "source": [
    "for user in range(len(users_list)):\n",
    "    print(\"Scraping for User {}\".format(user+1))\n",
    "    driver = webdriver.Chrome('chromedriver.exe')\n",
    "    url = 'https://www.imdb.com/user/{}/reviews'.format(users_list[user])\n",
    "    time.sleep(1)\n",
    "    driver.get(url)\n",
    "    time.sleep(1)\n",
    "    \n",
    "    sel = Selector(text = driver.page_source)\n",
    "    num_of_reviews = sel.css(\".header span::text\").extract_first().replace(',','').split(' ')[0]\n",
    "    more_review_pages = int(int(num_of_reviews)/25)\n",
    "    \n",
    "    user_id += [users_list[user] for i in range(int(num_of_reviews))]\n",
    "    \n",
    "    # Loading all the reviews in the single page before scraping\n",
    "    for i in tqdm(range(more_review_pages)):\n",
    "        try:\n",
    "            css_selector = 'load-more-trigger'\n",
    "            driver.find_element(By.ID, css_selector).click()\n",
    "            time.sleep(2)\n",
    "        except:\n",
    "            pass\n",
    "    \n",
    "    reviews = driver.find_elements(By.CSS_SELECTOR, 'div.review-container')\n",
    "    for review in tqdm(reviews):\n",
    "        try:\n",
    "            sel2 = Selector(text = review.get_attribute('innerHTML'))\n",
    "            try:\n",
    "                movie_title = sel2.css('.lister-item-header a::text').extract_first().strip()\n",
    "            except:\n",
    "                movie_title = np.NaN\n",
    "            try:\n",
    "                year = sel2.css('.lister-item-year.text-muted.unbold::text').extract_first().strip().replace('(','').replace(')','')\n",
    "            except:\n",
    "                year = np.NaN\n",
    "            try:\n",
    "                review_title = sel2.css('.title::text').extract_first().strip()\n",
    "            except:\n",
    "                review_title = np.NaN\n",
    "            try:\n",
    "                review = sel2.css('.text.show-more__control::text').extract_first()\n",
    "            except:\n",
    "                review = np.NaN\n",
    "                \n",
    "            movie_title_list.append(movie_title)\n",
    "            year_list.append(year)\n",
    "            review_title_list.append(review_title)\n",
    "            review_list.append(review)\n",
    "        except Exception as e:\n",
    "            error_msg.append(e)"
   ]
  },
  {
   "cell_type": "code",
   "execution_count": 5,
   "metadata": {},
   "outputs": [],
   "source": [
    "# Storing all data in dataframe\n",
    "reviews_df = pd.DataFrame({\n",
    "    \"UserID\": user_id,\n",
    "    \"Movie_Title\": movie_title_list,\n",
    "    \"Year\": year_list,\n",
    "    \"Review_Title\": review_title_list,\n",
    "    \"Review\": review_list})"
   ]
  },
  {
   "cell_type": "code",
   "execution_count": 6,
   "metadata": {},
   "outputs": [],
   "source": [
    "# Export dataset\n",
    "reviews_df.to_csv(path_or_buf = \"users_reviews.csv\"\n",
    "                          , index = False )"
   ]
  }
 ],
 "metadata": {
  "kernelspec": {
   "display_name": "base",
   "language": "python",
   "name": "python3"
  },
  "language_info": {
   "codemirror_mode": {
    "name": "ipython",
    "version": 3
   },
   "file_extension": ".py",
   "mimetype": "text/x-python",
   "name": "python",
   "nbconvert_exporter": "python",
   "pygments_lexer": "ipython3",
   "version": "3.9.7"
  },
  "orig_nbformat": 4
 },
 "nbformat": 4,
 "nbformat_minor": 2
}
