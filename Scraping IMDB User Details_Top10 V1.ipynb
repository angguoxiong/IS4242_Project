{
 "cells": [
  {
   "cell_type": "code",
   "execution_count": 24,
   "id": "60b4cdf4",
   "metadata": {},
   "outputs": [],
   "source": [
    "import requests\n",
    "from bs4 import BeautifulSoup\n",
    "import csv\n",
    "import pandas as pd\n",
    "import re"
   ]
  },
  {
   "cell_type": "code",
   "execution_count": 25,
   "id": "bc61f443",
   "metadata": {},
   "outputs": [],
   "source": [
    "base_url = 'https://www.imdb.com'\n",
    "user_id = 'ur17402378'\n",
    "url = f'{base_url}/user/{user_id}/?ref_=tt_urv'"
   ]
  },
  {
   "cell_type": "code",
   "execution_count": 26,
   "id": "753b851f",
   "metadata": {},
   "outputs": [],
   "source": [
    "response = requests.get(url)\n",
    "soup = BeautifulSoup(response.content, \"html.parser\")\n",
    "\n",
    "# find all rows in histogram\n",
    "histogram = soup.find(\"div\", {\"class\": \"histogram-vertical\"})\n",
    "rows = histogram.find_all(\"div\", {\"class\": \"row\"})\n",
    "\n",
    "top_10_ratings = []\n",
    "# loop through rows and extract genre and rating\n",
    "for row in rows:\n",
    "    count = row.find(\"div\", {\"class\": \"count\"}).text.strip()\n",
    "    genre = row.find(\"div\", {\"class\": \"key\"}).text.strip()\n",
    "    top_10_ratings.append({\"Genre\":genre, \"Count\":count})\n",
    "\n",
    "df = pd.DataFrame(top_10_ratings)"
   ]
  },
  {
   "cell_type": "code",
   "execution_count": 27,
   "id": "06a2509d",
   "metadata": {},
   "outputs": [],
   "source": [
    "filename = user_id + '_top10.csv'\n",
    "df.to_csv(filename, index=False)"
   ]
  }
 ],
 "metadata": {
  "kernelspec": {
   "display_name": "Python 3 (ipykernel)",
   "language": "python",
   "name": "python3"
  },
  "language_info": {
   "codemirror_mode": {
    "name": "ipython",
    "version": 3
   },
   "file_extension": ".py",
   "mimetype": "text/x-python",
   "name": "python",
   "nbconvert_exporter": "python",
   "pygments_lexer": "ipython3",
   "version": "3.9.13"
  }
 },
 "nbformat": 4,
 "nbformat_minor": 5
}
