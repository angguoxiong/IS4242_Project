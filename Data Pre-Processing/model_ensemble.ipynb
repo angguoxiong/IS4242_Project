{
 "cells": [
  {
   "cell_type": "code",
   "execution_count": null,
   "metadata": {},
   "outputs": [],
   "source": [
    "import pandas as pd"
   ]
  },
  {
   "cell_type": "code",
   "execution_count": null,
   "metadata": {},
   "outputs": [],
   "source": [
    "y_pred_dfm = pd.read_csv('../Data Files/Raw Data/deepfm_output.csv')\n",
    "y_pred_nn = pd.read_csv('../Data Files/Raw Data/neuralnetwork_output.csv')\n",
    "y_pred_rf = pd.read_csv('../Data Files/Raw Data/randomforest_output.csv')\n",
    "y_pred_xgb = pd.read_csv('../Data Files/Raw Data/xgboost_output.csv')"
   ]
  },
  {
   "cell_type": "code",
   "execution_count": null,
   "metadata": {},
   "outputs": [],
   "source": []
  }
 ],
 "metadata": {
  "language_info": {
   "name": "python"
  },
  "orig_nbformat": 4
 },
 "nbformat": 4,
 "nbformat_minor": 2
}
