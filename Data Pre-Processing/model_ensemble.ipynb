{
 "cells": [
  {
   "cell_type": "code",
   "execution_count": 1,
   "metadata": {},
   "outputs": [],
   "source": [
    "import pandas as pd"
   ]
  },
  {
   "cell_type": "code",
   "execution_count": null,
   "metadata": {},
   "outputs": [],
   "source": [
    "y_pred_dfm = pd.read_csv('../Data Files/Raw Data/deepfm_output.csv')\n",
    "y_pred_nn = pd.read_csv('../Data Files/Raw Data/neuralnetwork_output.csv')\n",
    "y_pred_rf = pd.read_csv('../Data Files/Raw Data/randomforest_output.csv')\n",
    "y_pred_xgb = pd.read_csv('../Data Files/Raw Data/xgboost_output.csv')"
   ]
  },
  {
   "cell_type": "code",
   "execution_count": 7,
   "metadata": {},
   "outputs": [],
   "source": [
    "import zipfile\n",
    "\n",
    "with zipfile.ZipFile('../Data Files/Training Data.zip', 'r') as zip_ref:\n",
    "    zip_ref.extractall('../Data Files/')"
   ]
  }
 ],
 "metadata": {
  "kernelspec": {
   "display_name": "Python 3",
   "language": "python",
   "name": "python3"
  },
  "language_info": {
   "codemirror_mode": {
    "name": "ipython",
    "version": 3
   },
   "file_extension": ".py",
   "mimetype": "text/x-python",
   "name": "python",
   "nbconvert_exporter": "python",
   "pygments_lexer": "ipython3",
   "version": "3.10.0"
  },
  "orig_nbformat": 4
 },
 "nbformat": 4,
 "nbformat_minor": 2
}
