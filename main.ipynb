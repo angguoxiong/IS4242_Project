{
 "cells": [
  {
   "cell_type": "code",
   "execution_count": 1,
   "metadata": {},
   "outputs": [],
   "source": [
    "# For Supervised Machine Learning Models\n",
    "from ML_Models.Supervised_Learning.deepfm import run_deepfm, tune_deepfm_with_cross_validation\n",
    "from ML_Models.Supervised_Learning.neural_network import run_neural_network, tune_neural_network_with_cross_validation\n",
    "from ML_Models.Supervised_Learning.random_forest import run_random_forest, tune_random_forest_with_cross_validation\n",
    "from ML_Models.Supervised_Learning.xgb import run_xgboost, tune_xgboost_with_cross_validation\n",
    "\n",
    "\n",
    "# For Collaborative Filtering\n",
    "from ML_Models.Collaborative_Filtering.k_nearest_neighbor import run_item_based_knn_CF, run_user_based_knn_CF\n",
    "from ML_Models.Collaborative_Filtering.matrix_factorization import run_user_based_mf_CF\n",
    "\n",
    "\n",
    "# Importing Helper Functions\n",
    "from helper_functions import ensemble_supervised, ensemble_unsupervised\n",
    "\n",
    "\n",
    "import pandas as pd\n",
    "import warnings\n",
    "warnings.filterwarnings('ignore')"
   ]
  },
  {
   "cell_type": "code",
   "execution_count": 2,
   "metadata": {},
   "outputs": [],
   "source": [
    "## Importing Necessary Files from Repository\n",
    "x_train = pd.read_csv('./Data_Files/Training_Data/x_train.csv')\n",
    "x_test = pd.read_csv('./Data_Files/Training_Data/x_test.csv')\n",
    "y_train = pd.read_csv('./Data_Files/Training_Data/y_train.csv')\n",
    "y_test = pd.read_csv('./Data_Files/Training_Data/y_test.csv')\n",
    "\n",
    "to_predict = pd.read_csv('./Data_Files/Training_Data/unseen_movies.csv')"
   ]
  },
  {
   "cell_type": "code",
   "execution_count": null,
   "metadata": {},
   "outputs": [],
   "source": [
    "def train_and_tune_Ml_Models(x_train, y_train, x_test, y_test):\n",
    "    tune_deepfm_with_cross_validation(x_train, y_train, x_test, y_test)\n",
    "    tune_neural_network_with_cross_validation(x_train, y_train, x_test, y_test)\n",
    "    tune_random_forest_with_cross_validation(x_train, y_train, x_test, y_test)\n",
    "    tune_xgboost_with_cross_validation(x_train, y_train, x_test, y_test)"
   ]
  },
  {
   "cell_type": "code",
   "execution_count": null,
   "metadata": {},
   "outputs": [],
   "source": [
    "## Training Supervised Models\n",
    "train_and_tune_Ml_Models(x_train, y_train, x_test, y_test)"
   ]
  },
  {
   "cell_type": "code",
   "execution_count": null,
   "metadata": {},
   "outputs": [],
   "source": [
    "def intelligent_recommender(to_predict):\n",
    "    \n",
    "    y_pred_dfm = run_deepfm(to_predict)\n",
    "    y_pred_nn = run_neural_network(to_predict)\n",
    "    y_pred_rf = run_random_forest(to_predict)\n",
    "    y_pred_xgb = run_xgboost(to_predict)\n",
    "\n",
    "    ## Ensembling Supervised Predictions\n",
    "    ratings_df = ensemble_supervised(y_pred_dfm, y_pred_nn, y_pred_rf, y_pred_xgb)\n",
    "\n",
    "    ## Generating Recommendations from Collaborative Filtering \n",
    "    recos_set_1 = run_item_based_knn_CF(ratings_df)\n",
    "    recos_set_2 = run_user_based_knn_CF(ratings_df)\n",
    "    recos_set_3 = run_user_based_mf_CF(ratings_df)\n",
    "\n",
    "    ## Ensembling Unsupervised Recommendations\n",
    "    consolidated_recos = ensemble_unsupervised(recos_set_1, recos_set_2, recos_set_3)\n",
    "\n",
    "    return consolidated_recos"
   ]
  },
  {
   "cell_type": "code",
   "execution_count": null,
   "metadata": {},
   "outputs": [],
   "source": [
    "## Running Recommender System\n",
    "intelligent_recommender(to_predict)"
   ]
  }
 ],
 "metadata": {
  "kernelspec": {
   "display_name": "Python 3",
   "language": "python",
   "name": "python3"
  },
  "language_info": {
   "codemirror_mode": {
    "name": "ipython",
    "version": 3
   },
   "file_extension": ".py",
   "mimetype": "text/x-python",
   "name": "python",
   "nbconvert_exporter": "python",
   "pygments_lexer": "ipython3",
   "version": "3.10.0"
  },
  "orig_nbformat": 4
 },
 "nbformat": 4,
 "nbformat_minor": 2
}
