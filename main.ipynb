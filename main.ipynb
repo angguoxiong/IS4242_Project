{
 "cells": [
  {
   "cell_type": "code",
   "execution_count": 7,
   "metadata": {},
   "outputs": [],
   "source": [
    "# For Supervised Machine Learning Models\n",
    "from ML_Models.Supervised_Learning.neural_network import run_neural_network, tune_neural_network_hyperparameter_with_cross_validation\n",
    "\n",
    "\n",
    "# For Collaborative Filtering\n",
    "from ML_Models.Collaborative_Filtering.knn import run_item_based_knn_collab_filtering, run_user_based_knn_collab_filtering\n",
    "from ML_Models.Collaborative_Filtering.matrix_factorization import run_user_based_mf_collab_filtering\n",
    "\n",
    "\n",
    "# Importing Helper Functions\n",
    "from helper_functions import ensemble_supervised, ensemble_unsupervised"
   ]
  },
  {
   "cell_type": "code",
   "execution_count": null,
   "metadata": {},
   "outputs": [],
   "source": [
    "def train_and_tune_Ml_Models(x_train, y_train):\n",
    "    tune_neural_network_hyperparameter_with_cross_validation(x_train, y_train)"
   ]
  },
  {
   "cell_type": "code",
   "execution_count": null,
   "metadata": {},
   "outputs": [],
   "source": [
    "def intelligent_recommender():\n",
    "\n",
    "    ## Scraping and Processing Training Data\n",
    "    raw_data = extract_IMDB()\n",
    "    textual_data = textual_processing(raw_data)\n",
    "    processed_data = feature_engineering(raw_data)\n",
    "    x_train, x_test, y_train, y_test = generate_training_data(textual_data, processed_data)\n",
    "\n",
    "    ## Training Supervised Models\n",
    "    train_and_tune_Ml_Models(x_train, y_train)\n",
    "\n",
    "    y_pred_dfm = run_deepfm(x_test)\n",
    "    y_pred_nn = run_neural_network(x_test)\n",
    "    y_pred_rf = run_random_forest(x_test)\n",
    "    y_pred_xgb = run_xgboost(x_test)\n",
    "\n",
    "    ## Ensembling Supervised Predictions\n",
    "    ratings_df = ensemble_supervised(y_pred_dfm, y_pred_nn, y_pred_rf, y_pred_xgb, y_test)\n",
    "\n",
    "    ## Generating Recommendations\n",
    "    recos_set_1 = run_item_based_knn_collab_filtering(ratings_df)\n",
    "    recos_set_2 = run_user_based_knn_collab_filtering(ratings_df)\n",
    "    recos_set_3 = run_user_based_mf_collab_filtering(ratings_df)\n",
    "\n",
    "    ## Ensembling Unsupervised Recommendations\n",
    "    consolidated_recos = ensemble_unsupervised(recos_set_1, recos_set_2, recos_set_3)\n",
    "\n",
    "    return consolidated_recos"
   ]
  }
 ],
 "metadata": {
  "kernelspec": {
   "display_name": "Python 3",
   "language": "python",
   "name": "python3"
  },
  "language_info": {
   "codemirror_mode": {
    "name": "ipython",
    "version": 3
   },
   "file_extension": ".py",
   "mimetype": "text/x-python",
   "name": "python",
   "nbconvert_exporter": "python",
   "pygments_lexer": "ipython3",
   "version": "3.10.0"
  },
  "orig_nbformat": 4
 },
 "nbformat": 4,
 "nbformat_minor": 2
}
