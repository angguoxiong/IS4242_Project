{
 "cells": [
  {
   "cell_type": "code",
   "execution_count": null,
   "metadata": {},
   "outputs": [],
   "source": [
    "import pandas as pd\n",
    "import numpy as np"
   ]
  },
  {
   "cell_type": "code",
   "execution_count": null,
   "metadata": {},
   "outputs": [],
   "source": [
    "def intelligent_recommender():\n",
    "\n",
    "    ## Scraping and Processing Training Data\n",
    "    raw_data = extract_IMDB()\n",
    "    textual_data = textual_processing(raw_data)\n",
    "    processed_data = feature_engineering(raw_data)\n",
    "    x_train, x_test, y_train, y_test = generate_training_data(textual_data, processed_data)\n",
    "\n",
    "    ## Training Supervised Models\n",
    "    y_pred_dfm = run_deepfm(x_train, y_train)\n",
    "    y_pred_nn = run_neural_network(x_train, y_train)\n",
    "    y_pred_rf = run_random_forest(x_train, y_train)\n",
    "    y_pred_xgb = run_xgboost(x_train, y_train)\n",
    "\n",
    "    ## Ensembling Supervised Predictions\n",
    "    ratings_matrix = ensemble_supervised(y_pred_dfm, y_pred_nn, y_pred_rf, y_pred_xgb)\n",
    "\n",
    "    ## Generating Recommendations\n",
    "    recos_content = run_content_based_filtering(ratings_matrix)\n",
    "    recos_knn = run_item_based_knn_collab_filtering(ratings_matrix)\n",
    "    recos_mf = run_user_based_mf_collab_filtering(ratings_matrix)\n",
    "\n",
    "    ## Ensembling Unsupervised Recommendations\n",
    "    consolidated_recos = ensemble_unsupervised(recos_content, recos_knn, recos_mf)\n",
    "\n",
    "    return consolidated_recos"
   ]
  }
 ],
 "metadata": {
  "kernelspec": {
   "display_name": "Python 3",
   "language": "python",
   "name": "python3"
  },
  "language_info": {
   "name": "python",
   "version": "3.10.0"
  },
  "orig_nbformat": 4
 },
 "nbformat": 4,
 "nbformat_minor": 2
}
