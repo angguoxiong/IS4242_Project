{
 "cells": [
  {
   "cell_type": "code",
   "execution_count": 7,
   "metadata": {},
   "outputs": [],
   "source": [
    "import pandas as pd\n",
    "import numpy as np\n",
    "\n",
    "\n",
    "# For Supervised Machine Learning Models\n",
    "from ML_Models.Supervised_Learning.neural_network import run_neural_network \n",
    "\n",
    "\n",
    "# For Collaborative Filtering\n",
    "from ML_Models.Collaborative_Filtering.matrix_factorization import run_user_based_mf_collab_filtering\n",
    "\n",
    "\n",
    "# Importing Helper Functions\n",
    "from helper_functions import train_ML_models, ensemble_supervised, ensemble_unsupervised"
   ]
  },
  {
   "cell_type": "code",
   "execution_count": null,
   "metadata": {},
   "outputs": [],
   "source": [
    "def intelligent_recommender():\n",
    "\n",
    "    ## Scraping and Processing Training Data\n",
    "    raw_data = extract_IMDB()\n",
    "    textual_data = textual_processing(raw_data)\n",
    "    processed_data = feature_engineering(raw_data)\n",
    "    x_train, x_test, y_train, y_test = generate_training_data(textual_data, processed_data)\n",
    "\n",
    "    ## Training Supervised Models\n",
    "    train_ML_models(x_train, y_train)\n",
    "\n",
    "    y_pred_dfm = run_deepfm(x_test)\n",
    "    y_pred_nn = run_neural_network(x_test)\n",
    "    y_pred_rf = run_random_forest(x_test)\n",
    "    y_pred_xgb = run_xgboost(x_test)\n",
    "\n",
    "    ## Ensembling Supervised Predictions\n",
    "    ratings_matrix = ensemble_supervised(y_pred_dfm, y_pred_nn, y_pred_rf, y_pred_xgb, y_test)\n",
    "\n",
    "    ## Generating Recommendations\n",
    "    recos_content = run_content_based_filtering(ratings_matrix)\n",
    "    recos_knn = run_item_based_knn_collab_filtering(ratings_matrix)\n",
    "    recos_mf = run_user_based_mf_collab_filtering(ratings_matrix)\n",
    "\n",
    "    ## Ensembling Unsupervised Recommendations\n",
    "    consolidated_recos = ensemble_unsupervised(recos_content, recos_knn, recos_mf)\n",
    "\n",
    "    return consolidated_recos"
   ]
  }
 ],
 "metadata": {
  "kernelspec": {
   "display_name": "Python 3",
   "language": "python",
   "name": "python3"
  },
  "language_info": {
   "codemirror_mode": {
    "name": "ipython",
    "version": 3
   },
   "file_extension": ".py",
   "mimetype": "text/x-python",
   "name": "python",
   "nbconvert_exporter": "python",
   "pygments_lexer": "ipython3",
   "version": "3.10.0"
  },
  "orig_nbformat": 4
 },
 "nbformat": 4,
 "nbformat_minor": 2
}
