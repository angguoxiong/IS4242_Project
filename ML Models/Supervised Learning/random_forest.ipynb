{
 "cells": [
  {
   "cell_type": "code",
   "execution_count": null,
   "metadata": {},
   "outputs": [],
   "source": [
    "import pandas as pd\r\n",
    "import pickle\r\n",
    "import joblib\r\n",
    "import numpy as np\r\n",
    "\r\n",
    "# Models\r\n",
    "from sklearn.ensemble import RandomForestClassifier, RandomForestRegressor\r\n",
    "\r\n",
    "#Tuning and Cross Validation\r\n",
    "from sklearn.model_selection import GridSearchCV\r\n",
    "from sklearn.metrics import mean_squared_error\r\n",
    "from sklearn.model_selection import cross_val_score"
   ]
  },
  {
   "attachments": {},
   "cell_type": "markdown",
   "metadata": {},
   "source": [
    "#### Importing Data"
   ]
  },
  {
   "cell_type": "code",
   "execution_count": null,
   "metadata": {},
   "outputs": [],
   "source": [
    "x_train = pd.read_csv('../../Data Files/Training_Data/x_train.csv')\n",
    "x_test = pd.read_csv('../../Data Files/Training_Data/x_test.csv')\n",
    "y_train = pd.read_csv('../../Data Files/Training_Data/y_train.csv')\n",
    "y_test = pd.read_csv('../../Data Files/Training_Data/y_test.csv')"
   ]
  },
  {
   "attachments": {},
   "cell_type": "markdown",
   "metadata": {},
   "source": [
    "#### Defining RandomForest Architecture"
   ]
  },
  {
   "cell_type": "code",
   "execution_count": null,
   "metadata": {},
   "outputs": [],
   "source": [
    "rf = RandomForestClassifier(n_estimators=100, random_state=123)\r\n",
    "y_train = np.ravel(y_train)\r\n",
    "y_test = np.ravel(y_train)"
   ]
  },
  {
   "attachments": {},
   "cell_type": "markdown",
   "metadata": {},
   "source": [
    "#### Training RandomForest"
   ]
  },
  {
   "cell_type": "code",
   "execution_count": null,
   "metadata": {},
   "outputs": [],
   "source": [
    "rf_model = rf.fit(x_train, y_train)\r\n",
    "y_pred_rf = rf_model.predict(x_test)"
   ]
  },
  {
   "attachments": {},
   "cell_type": "markdown",
   "metadata": {},
   "source": [
    "#### Tuning for Hyperparameters with Cross Validation"
   ]
  },
  {
   "cell_type": "code",
   "execution_count": null,
   "metadata": {},
   "outputs": [],
   "source": [
    "rf_base = RandomForestRegressor(random_state=123)\r\n",
    "param_grid = {\r\n",
    "    'n_estimators' : [100, 200, 400],\r\n",
    "    'max_depth': [5, 10, 20],\r\n",
    "    'min_samples_split': [2, 5, 10]\r\n",
    "}\r\n",
    "estimator = GridSearchCV(rf_model, param_grid, cv=3)\r\n",
    "estimator.fit(x_train,y_train)\r\n",
    "\r\n",
    "optimal_clf = estimator.best_estimator_\r\n",
    "\r\n",
    "Y_pred = optimal_clf.predict(x_test)\r\n",
    "mse_after_tuning = mean_squared_error(y_test, Y_pred)\r\n",
    "print(\"test accuracy = {:.2%}\".format(mse_after_tuning))"
   ]
  },
  {
   "attachments": {},
   "cell_type": "markdown",
   "metadata": {},
   "source": [
    "#### Generating Predictions"
   ]
  },
  {
   "cell_type": "code",
   "execution_count": null,
   "metadata": {},
   "outputs": [],
   "source": [
    "scores = cross_val_score(rf_base, x_train, y_train, cv=5, scoring='neg_mean_absolute_error')\r\n",
    "print(\"Mean Absolute Error:\", -scores.mean())\r\n",
    "print(\"Standard deviation:\", scores.std())"
   ]
  },
  {
   "attachments": {},
   "cell_type": "markdown",
   "metadata": {},
   "source": [
    "#### Saving Model File and Predictions"
   ]
  },
  {
   "cell_type": "code",
   "execution_count": null,
   "metadata": {},
   "outputs": [],
   "source": [
    "save_path = '../../Data Files/'\n",
    "pickle.dump(rf, open(save_path + 'Model Files/' + 'rf.pkl', 'wb'))\n",
    "np.savetxt(save_path + 'Predictions/' + 'randomforest_output.csv', y_pred_rf, delimiter=\",\")"
   ]
  }
 ],
 "metadata": {
  "language_info": {
   "name": "python"
  },
  "orig_nbformat": 4
 },
 "nbformat": 4,
 "nbformat_minor": 2
}