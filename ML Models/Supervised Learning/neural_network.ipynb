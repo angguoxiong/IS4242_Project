{
 "cells": [
  {
   "cell_type": "code",
   "execution_count": 2,
   "metadata": {},
   "outputs": [],
   "source": [
    "import pandas as pd\n",
    "import numpy as np\n",
    "import joblib\n",
    "\n",
    "# Models\n",
    "from keras.models import Sequential\n",
    "from keras.layers import Dense\n",
    "\n",
    "#Tuning and Cross Validation\n",
    "from sklearn.model_selection import GridSearchCV\n",
    "from keras.wrappers.scikit_learn import KerasRegressor\n",
    "from sklearn.metrics import mean_squared_error\n",
    "from sklearn.model_selection import cross_val_score"
   ]
  },
  {
   "attachments": {},
   "cell_type": "markdown",
   "metadata": {},
   "source": [
    "#### Importing Data"
   ]
  },
  {
   "cell_type": "code",
   "execution_count": null,
   "metadata": {},
   "outputs": [],
   "source": [
    "x_train = pd.read_csv('../../Data Files/Training Data/x_train.csv')\n",
    "x_test = pd.read_csv('../../Data Files/Training Data/x_test.csv')\n",
    "y_train = pd.read_csv('../../Data Files/Training Data/y_train.csv')\n",
    "y_test = pd.read_csv('../../Data Files/Training Data/y_test.csv')"
   ]
  },
  {
   "attachments": {},
   "cell_type": "markdown",
   "metadata": {},
   "source": [
    "#### Defining Neural Network Architecture"
   ]
  },
  {
   "cell_type": "code",
   "execution_count": null,
   "metadata": {},
   "outputs": [],
   "source": [
    "def build_nn_model(num_neurons_1, num_neurons_2):\n",
    "    nn = Sequential()\n",
    "    nn.add(Dense(num_neurons_1, input_shape=[len(x_train.columns),], activation=\"relu\"))\n",
    "    nn.add(Dense(num_neurons_2, input_shape=[len(x_train.columns),], activation=\"relu\"))\n",
    "    nn.add(Dense(1, activation='linear'))\n",
    "    nn.compile(loss='mean_squared_error', optimizer='adam', metrics=['mse']) \n",
    "    return nn"
   ]
  },
  {
   "attachments": {},
   "cell_type": "markdown",
   "metadata": {},
   "source": [
    "#### Training Neural Network"
   ]
  },
  {
   "cell_type": "code",
   "execution_count": null,
   "metadata": {},
   "outputs": [],
   "source": [
    "nn = build_nn_model(30, 30)\n",
    "nn_history = nn.fit(x_train, y_train, batch_size=5, epochs=5, verbose=1)\n",
    "y_pred_nn = nn.predict(x_test)"
   ]
  },
  {
   "attachments": {},
   "cell_type": "markdown",
   "metadata": {},
   "source": [
    "#### Tuning for Hyperparameters"
   ]
  },
  {
   "cell_type": "code",
   "execution_count": null,
   "metadata": {},
   "outputs": [],
   "source": [
    "model = KerasRegressor(build_fn=build_nn_model)\n",
    "\n",
    "param_grid = {'activation': ['relu', 'softmax'],\n",
    "              'optimizer': ['adam', 'sgd'],\n",
    "              'batch_size': [5, 10, 20],\n",
    "              'epochs': [5, 10, 20]}\n",
    "\n",
    "grid_search = GridSearchCV(estimator=model, param_grid=param_grid, cv=5)\n",
    "grid_search.fit(x_train, y_train)\n",
    "\n",
    "optimal_clf = grid_search.best_estimator_\n",
    "\n",
    "Y_pred = optimal_clf.predict(x_test)\n",
    "mse_after_tuning = mean_squared_error(y_test, Y_pred)\n",
    "print(\"test accuracy = {:.2%}\".format(mse_after_tuning))"
   ]
  },
  {
   "attachments": {},
   "cell_type": "markdown",
   "metadata": {},
   "source": [
    "#### Cross Validation"
   ]
  },
  {
   "cell_type": "code",
   "execution_count": null,
   "metadata": {},
   "outputs": [],
   "source": [
    "scores = cross_val_score(model, x_train, y_train, cv=5, scoring='neg_mean_absolute_error')\n",
    "print(\"Mean Absolute Error:\", -scores.mean())\n",
    "print(\"Standard deviation:\", scores.std())"
   ]
  },
  {
   "attachments": {},
   "cell_type": "markdown",
   "metadata": {},
   "source": [
    "#### Saving Model File and Predictions"
   ]
  },
  {
   "cell_type": "code",
   "execution_count": null,
   "metadata": {},
   "outputs": [],
   "source": [
    "save_path = '../../Data Files/Model Files/'\n",
    "nn.save(save_path + 'nn.h5')\n",
    "joblib.dump(y_pred_nn, save_path + 'neuralnetwork_output.csv')"
   ]
  }
 ],
 "metadata": {
  "kernelspec": {
   "display_name": "Python 3",
   "language": "python",
   "name": "python3"
  },
  "language_info": {
   "codemirror_mode": {
    "name": "ipython",
    "version": 3
   },
   "file_extension": ".py",
   "mimetype": "text/x-python",
   "name": "python",
   "nbconvert_exporter": "python",
   "pygments_lexer": "ipython3",
   "version": "3.10.0"
  },
  "orig_nbformat": 4
 },
 "nbformat": 4,
 "nbformat_minor": 2
}
