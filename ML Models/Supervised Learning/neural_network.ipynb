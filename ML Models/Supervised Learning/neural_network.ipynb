{
 "cells": [
  {
   "cell_type": "code",
   "execution_count": null,
   "metadata": {},
   "outputs": [],
   "source": [
    "import pandas as pd\n",
    "import numpy as np\n",
    "\n",
    "# Models\n",
    "from keras.models import Sequential\n",
    "from keras.layers import Dense\n",
    "\n",
    "#Tuning\n",
    "from sklearn.model_selection import GridSearchCV\n",
    "from keras.wrappers.scikit_learn import KerasClassifier\n",
    "from sklearn.metrics import mean_squared_error"
   ]
  },
  {
   "cell_type": "code",
   "execution_count": null,
   "metadata": {},
   "outputs": [],
   "source": [
    "x_train = pd.DataFrame()    # genre, description, duration, directors, stars, votes, user rating, movie rating\n",
    "y_train = pd.DataFrame()    # ratings\n",
    "x_test = pd.DataFrame()\n",
    "y_test = pd.DataFrame()"
   ]
  },
  {
   "cell_type": "code",
   "execution_count": null,
   "metadata": {},
   "outputs": [],
   "source": [
    "def build_nn_model(num_neurons_1, num_neurons_2):\n",
    "    nn = Sequential()\n",
    "    nn.add(Dense(num_neurons_1, input_shape=[len(x_train.columns),], activation=\"relu\"))\n",
    "    nn.add(Dense(num_neurons_2, input_shape=[len(x_train.columns),], activation=\"relu\"))\n",
    "    nn.add(Dense(1, activation='linear'))\n",
    "    nn.compile(loss='mean_squared_error', optimizer='adam', metrics=['mse']) \n",
    "    return nn"
   ]
  },
  {
   "cell_type": "code",
   "execution_count": null,
   "metadata": {},
   "outputs": [],
   "source": [
    "nn = build_nn_model(30, 30)\n",
    "nn_history = nn.fit(x_train, y_train, batch_size=5, epochs=5, verbose=1)\n",
    "y_pred_nn_prob = nn.predict(x_test)\n",
    "y_pred_nn = np.argmax(y_pred_nn_prob, axis=1)"
   ]
  },
  {
   "cell_type": "code",
   "execution_count": null,
   "metadata": {},
   "outputs": [],
   "source": [
    "### tuning for hyperparameters\n",
    "model = KerasClassifier(build_fn=build_nn_model)\n",
    "\n",
    "param_grid = {'activation': ['relu', 'softmax'],\n",
    "              'optimizer': ['adam', 'sgd'],\n",
    "              'batch_size': [5, 10, 20],\n",
    "              'epochs': [5, 10, 20]}\n",
    "\n",
    "grid_search = GridSearchCV(estimator=model, param_grid=param_grid, cv=5)\n",
    "grid_search.fit(x_train, y_train)\n",
    "\n",
    "optimal_clf = grid_search.best_estimator_\n",
    "\n",
    "Y_pred = optimal_clf.predict(x_test)\n",
    "mse_after_tuning = mean_squared_error(y_test, Y_pred)\n",
    "print(\"test accuracy = {:.2%}\".format(mse_after_tuning))"
   ]
  }
 ],
 "metadata": {
  "language_info": {
   "name": "python"
  },
  "orig_nbformat": 4
 },
 "nbformat": 4,
 "nbformat_minor": 2
}
