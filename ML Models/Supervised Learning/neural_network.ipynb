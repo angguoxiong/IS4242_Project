{
 "cells": [
  {
   "cell_type": "code",
   "execution_count": null,
   "metadata": {},
   "outputs": [],
   "source": [
    "import pandas as pd\n",
    "import numpy as np\n",
    "import joblib\n",
    "\n",
    "# Models\n",
    "import keras\n",
    "from keras.models import Sequential\n",
    "from keras.layers import Dense\n",
    "\n",
    "#Tuning and Cross Validation\n",
    "from sklearn.model_selection import GridSearchCV, StratifiedKFold\n",
    "from keras.wrappers.scikit_learn import KerasRegressor\n",
    "from sklearn.metrics import mean_absolute_error\n",
    "from sklearn.model_selection import cross_val_score\n",
    "\n",
    "import warnings\n",
    "warnings.filterwarnings(\"ignore\", category=DeprecationWarning)"
   ]
  },
  {
   "attachments": {},
   "cell_type": "markdown",
   "metadata": {},
   "source": [
    "#### Importing Data"
   ]
  },
  {
   "cell_type": "code",
   "execution_count": null,
   "metadata": {},
   "outputs": [],
   "source": [
    "x_train = pd.read_csv('../../Data Files/Training_Data/x_train.csv')\n",
    "x_test = pd.read_csv('../../Data Files/Training_Data/x_test.csv')\n",
    "y_train = pd.read_csv('../../Data Files/Training_Data/y_train.csv')\n",
    "y_test = pd.read_csv('../../Data Files/Training_Data/y_test.csv')"
   ]
  },
  {
   "attachments": {},
   "cell_type": "markdown",
   "metadata": {},
   "source": [
    "#### Defining Neural Network Architecture"
   ]
  },
  {
   "cell_type": "code",
   "execution_count": null,
   "metadata": {},
   "outputs": [],
   "source": [
    "def build_nn_model(num_neurons_1, num_neurons_2, activation_fn, optimizer_fn):\n",
    "    nn = Sequential()\n",
    "    nn.add(Dense(num_neurons_1, input_shape=[len(x_train.columns),], activation=activation_fn))\n",
    "    nn.add(Dense(num_neurons_2, input_shape=[len(x_train.columns),], activation=activation_fn))\n",
    "    nn.add(Dense(1, activation='linear'))\n",
    "    nn.compile(loss='mean_squared_error', optimizer=optimizer_fn, metrics=['mean_absolute_error']) \n",
    "    return nn"
   ]
  },
  {
   "attachments": {},
   "cell_type": "markdown",
   "metadata": {},
   "source": [
    "#### Training Neural Network"
   ]
  },
  {
   "cell_type": "code",
   "execution_count": null,
   "metadata": {},
   "outputs": [],
   "source": [
    "nn = build_nn_model(30, 30, 'relu', 'adam')\n",
    "nn_history = nn.fit(x_train, y_train, batch_size=5, epochs=5, verbose=1)\n",
    "y_pred_nn = nn.predict(x_test)"
   ]
  },
  {
   "attachments": {},
   "cell_type": "markdown",
   "metadata": {},
   "source": [
    "#### Tuning for Hyperparameters with Cross Validation"
   ]
  },
  {
   "cell_type": "code",
   "execution_count": null,
   "metadata": {},
   "outputs": [],
   "source": [
    "model = KerasRegressor(build_fn=build_nn_model)\n",
    "\n",
    "param_grid = {'num_neurons_1': [30, 50],\n",
    "              'num_neurons_2': [10, 30, 50],\n",
    "              'activation_fn': ['tanh', 'softplus', 'relu'],\n",
    "              'optimizer_fn': ['adam', 'sgd'],\n",
    "              'batch_size': [16, 64, 128],\n",
    "              'epochs': [5, 10]}\n",
    "\n",
    "skf = StratifiedKFold(n_splits=3, shuffle=True, random_state=1)\n",
    "\n",
    "grid_search = GridSearchCV(estimator=model, param_grid=param_grid, scoring='neg_mean_absolute_error', cv=skf, verbose=3)\n",
    "grid_search.fit(x_train, y_train, verbose=0)"
   ]
  },
  {
   "cell_type": "code",
   "execution_count": null,
   "metadata": {},
   "outputs": [],
   "source": [
    "optimal_clf = grid_search.best_estimator_\n",
    "\n",
    "y_pred = optimal_clf.predict(x_test)\n",
    "mae_after_tuning = mean_absolute_error(y_test, y_pred)\n",
    "print(\"mean_absolute_error = {:.3}\".format(mae_after_tuning)) \n",
    "print(grid_search.best_params_)"
   ]
  },
  {
   "attachments": {},
   "cell_type": "markdown",
   "metadata": {},
   "source": [
    "#### Generating Predictions"
   ]
  },
  {
   "cell_type": "code",
   "execution_count": null,
   "metadata": {},
   "outputs": [],
   "source": [
    "tuned_nn = build_nn_model(30, 30, 'relu', 'adam')\n",
    "nn_history = tuned_nn.fit(x_train, y_train, batch_size=5, epochs=5, verbose=1)\n",
    "y_pred_nn = tuned_nn.predict(x_test)"
   ]
  },
  {
   "attachments": {},
   "cell_type": "markdown",
   "metadata": {},
   "source": [
    "#### Saving Model File and Predictions"
   ]
  },
  {
   "cell_type": "code",
   "execution_count": null,
   "metadata": {},
   "outputs": [],
   "source": [
    "save_path = '../../Data Files/Model Files/'\n",
    "nn.save(save_path + 'nn.h5')\n",
    "joblib.dump(y_pred_nn, save_path + 'neuralnetwork_output.csv')"
   ]
  }
 ],
 "metadata": {
  "kernelspec": {
   "display_name": "Python 3",
   "language": "python",
   "name": "python3"
  },
  "language_info": {
   "codemirror_mode": {
    "name": "ipython",
    "version": 3
   },
   "file_extension": ".py",
   "mimetype": "text/x-python",
   "name": "python",
   "nbconvert_exporter": "python",
   "pygments_lexer": "ipython3",
   "version": "3.10.0"
  },
  "orig_nbformat": 4
 },
 "nbformat": 4,
 "nbformat_minor": 2
}
