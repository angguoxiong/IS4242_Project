{
 "cells": [
  {
   "cell_type": "code",
   "execution_count": 1,
   "id": "294c6326",
   "metadata": {},
   "outputs": [
    {
     "name": "stderr",
     "output_type": "stream",
     "text": [
      "C:\\Users\\chris\\AppData\\Roaming\\Python\\Python38\\site-packages\\scipy\\__init__.py:146: UserWarning: A NumPy version >=1.16.5 and <1.23.0 is required for this version of SciPy (detected version 1.23.5\n",
      "  warnings.warn(f\"A NumPy version >={np_minversion} and <{np_maxversion}\"\n"
     ]
    }
   ],
   "source": [
    "import pandas as pd\n",
    "import numpy as np\n",
    "from sklearn.preprocessing import StandardScaler\n",
    "import random"
   ]
  },
  {
   "cell_type": "code",
   "execution_count": 2,
   "id": "1b004f45",
   "metadata": {},
   "outputs": [],
   "source": [
    "df_numerical = pd.read_csv('numerical_features_cleaned.csv')\n",
    "df_textual = pd.read_csv('textual_features_cleaned.csv')\n",
    "df_preference = pd.read_csv('../Data_Files/Raw_Data/user_movie_preferences_20users.csv')"
   ]
  },
  {
   "cell_type": "code",
   "execution_count": 3,
   "id": "714b30ff",
   "metadata": {},
   "outputs": [
    {
     "data": {
      "text/html": [
       "<div>\n",
       "<style scoped>\n",
       "    .dataframe tbody tr th:only-of-type {\n",
       "        vertical-align: middle;\n",
       "    }\n",
       "\n",
       "    .dataframe tbody tr th {\n",
       "        vertical-align: top;\n",
       "    }\n",
       "\n",
       "    .dataframe thead th {\n",
       "        text-align: right;\n",
       "    }\n",
       "</style>\n",
       "<table border=\"1\" class=\"dataframe\">\n",
       "  <thead>\n",
       "    <tr style=\"text-align: right;\">\n",
       "      <th></th>\n",
       "      <th>UserID</th>\n",
       "      <th>Title</th>\n",
       "      <th>Year</th>\n",
       "      <th>Genre</th>\n",
       "      <th>Votes</th>\n",
       "      <th>Movie_Rating</th>\n",
       "      <th>User_Rating</th>\n",
       "      <th>Brightness</th>\n",
       "      <th>Contrast</th>\n",
       "      <th>Saturation</th>\n",
       "      <th>...</th>\n",
       "      <th>review_topic__5.0</th>\n",
       "      <th>review_topic__6.0</th>\n",
       "      <th>review_topic__7.0</th>\n",
       "      <th>review_topic__8.0</th>\n",
       "      <th>review_topic__9.0</th>\n",
       "      <th>review_topic__10.0</th>\n",
       "      <th>review_topic__11.0</th>\n",
       "      <th>review_topic__12.0</th>\n",
       "      <th>review_topic__13.0</th>\n",
       "      <th>review_topic__14.0</th>\n",
       "    </tr>\n",
       "  </thead>\n",
       "  <tbody>\n",
       "    <tr>\n",
       "      <th>0</th>\n",
       "      <td>ur3223254</td>\n",
       "      <td>The Making of 'West Side Story'</td>\n",
       "      <td>1985</td>\n",
       "      <td>Documentary, Music</td>\n",
       "      <td>186.0</td>\n",
       "      <td>8.1</td>\n",
       "      <td>10</td>\n",
       "      <td>28.345112</td>\n",
       "      <td>1.0</td>\n",
       "      <td>0.483944</td>\n",
       "      <td>...</td>\n",
       "      <td>0</td>\n",
       "      <td>0</td>\n",
       "      <td>1</td>\n",
       "      <td>0</td>\n",
       "      <td>0</td>\n",
       "      <td>0</td>\n",
       "      <td>0</td>\n",
       "      <td>0</td>\n",
       "      <td>0</td>\n",
       "      <td>0</td>\n",
       "    </tr>\n",
       "    <tr>\n",
       "      <th>1</th>\n",
       "      <td>ur3223254</td>\n",
       "      <td>West Side Story (2021)</td>\n",
       "      <td>2021</td>\n",
       "      <td>Crime, Drama, Musical</td>\n",
       "      <td>87055.0</td>\n",
       "      <td>7.2</td>\n",
       "      <td>4</td>\n",
       "      <td>56.452657</td>\n",
       "      <td>1.0</td>\n",
       "      <td>0.387084</td>\n",
       "      <td>...</td>\n",
       "      <td>0</td>\n",
       "      <td>0</td>\n",
       "      <td>0</td>\n",
       "      <td>0</td>\n",
       "      <td>0</td>\n",
       "      <td>0</td>\n",
       "      <td>0</td>\n",
       "      <td>0</td>\n",
       "      <td>0</td>\n",
       "      <td>0</td>\n",
       "    </tr>\n",
       "    <tr>\n",
       "      <th>2</th>\n",
       "      <td>ur3223254</td>\n",
       "      <td>Supernova</td>\n",
       "      <td>2020</td>\n",
       "      <td>Drama, Romance</td>\n",
       "      <td>12422.0</td>\n",
       "      <td>6.9</td>\n",
       "      <td>10</td>\n",
       "      <td>129.423365</td>\n",
       "      <td>1.0</td>\n",
       "      <td>0.336827</td>\n",
       "      <td>...</td>\n",
       "      <td>0</td>\n",
       "      <td>0</td>\n",
       "      <td>0</td>\n",
       "      <td>0</td>\n",
       "      <td>0</td>\n",
       "      <td>0</td>\n",
       "      <td>0</td>\n",
       "      <td>0</td>\n",
       "      <td>0</td>\n",
       "      <td>1</td>\n",
       "    </tr>\n",
       "    <tr>\n",
       "      <th>3</th>\n",
       "      <td>ur3223254</td>\n",
       "      <td>The Many Saints of Newark</td>\n",
       "      <td>2021</td>\n",
       "      <td>Crime, Drama</td>\n",
       "      <td>56763.0</td>\n",
       "      <td>6.3</td>\n",
       "      <td>2</td>\n",
       "      <td>59.251703</td>\n",
       "      <td>1.0</td>\n",
       "      <td>0.147507</td>\n",
       "      <td>...</td>\n",
       "      <td>0</td>\n",
       "      <td>0</td>\n",
       "      <td>0</td>\n",
       "      <td>0</td>\n",
       "      <td>0</td>\n",
       "      <td>0</td>\n",
       "      <td>0</td>\n",
       "      <td>0</td>\n",
       "      <td>1</td>\n",
       "      <td>0</td>\n",
       "    </tr>\n",
       "    <tr>\n",
       "      <th>4</th>\n",
       "      <td>ur3223254</td>\n",
       "      <td>Never Look Away</td>\n",
       "      <td>2018</td>\n",
       "      <td>Biography, Drama, Romance</td>\n",
       "      <td>23016.0</td>\n",
       "      <td>7.7</td>\n",
       "      <td>10</td>\n",
       "      <td>95.750548</td>\n",
       "      <td>1.0</td>\n",
       "      <td>0.333741</td>\n",
       "      <td>...</td>\n",
       "      <td>0</td>\n",
       "      <td>0</td>\n",
       "      <td>0</td>\n",
       "      <td>0</td>\n",
       "      <td>0</td>\n",
       "      <td>0</td>\n",
       "      <td>0</td>\n",
       "      <td>0</td>\n",
       "      <td>0</td>\n",
       "      <td>0</td>\n",
       "    </tr>\n",
       "  </tbody>\n",
       "</table>\n",
       "<p>5 rows × 67 columns</p>\n",
       "</div>"
      ],
      "text/plain": [
       "      UserID                            Title  Year  \\\n",
       "0  ur3223254  The Making of 'West Side Story'  1985   \n",
       "1  ur3223254           West Side Story (2021)  2021   \n",
       "2  ur3223254                        Supernova  2020   \n",
       "3  ur3223254        The Many Saints of Newark  2021   \n",
       "4  ur3223254                  Never Look Away  2018   \n",
       "\n",
       "                       Genre    Votes  Movie_Rating  User_Rating  Brightness  \\\n",
       "0         Documentary, Music    186.0           8.1           10   28.345112   \n",
       "1      Crime, Drama, Musical  87055.0           7.2            4   56.452657   \n",
       "2             Drama, Romance  12422.0           6.9           10  129.423365   \n",
       "3               Crime, Drama  56763.0           6.3            2   59.251703   \n",
       "4  Biography, Drama, Romance  23016.0           7.7           10   95.750548   \n",
       "\n",
       "   Contrast  Saturation  ...  review_topic__5.0  review_topic__6.0  \\\n",
       "0       1.0    0.483944  ...                  0                  0   \n",
       "1       1.0    0.387084  ...                  0                  0   \n",
       "2       1.0    0.336827  ...                  0                  0   \n",
       "3       1.0    0.147507  ...                  0                  0   \n",
       "4       1.0    0.333741  ...                  0                  0   \n",
       "\n",
       "   review_topic__7.0  review_topic__8.0  review_topic__9.0  \\\n",
       "0                  1                  0                  0   \n",
       "1                  0                  0                  0   \n",
       "2                  0                  0                  0   \n",
       "3                  0                  0                  0   \n",
       "4                  0                  0                  0   \n",
       "\n",
       "   review_topic__10.0  review_topic__11.0  review_topic__12.0  \\\n",
       "0                   0                   0                   0   \n",
       "1                   0                   0                   0   \n",
       "2                   0                   0                   0   \n",
       "3                   0                   0                   0   \n",
       "4                   0                   0                   0   \n",
       "\n",
       "   review_topic__13.0  review_topic__14.0  \n",
       "0                   0                   0  \n",
       "1                   0                   0  \n",
       "2                   0                   1  \n",
       "3                   1                   0  \n",
       "4                   0                   0  \n",
       "\n",
       "[5 rows x 67 columns]"
      ]
     },
     "execution_count": 3,
     "metadata": {},
     "output_type": "execute_result"
    }
   ],
   "source": [
    "df = pd.merge(df_numerical, df_textual, on=['UserID', 'Title'])\n",
    "df.head(5)"
   ]
  },
  {
   "cell_type": "markdown",
   "id": "4381eae9",
   "metadata": {},
   "source": [
    "# Get dataframe of movies that each user has not seen"
   ]
  },
  {
   "cell_type": "code",
   "execution_count": 4,
   "id": "5c83b7c9",
   "metadata": {},
   "outputs": [],
   "source": [
    "all_movies = set(df['Title'])\n",
    "added_movies = set()\n",
    "movie_df_dict = {}\n",
    "\n",
    "for user_id in df['UserID'].unique():\n",
    "    seen_movies = set(df[df['UserID'] == user_id]['Title'])\n",
    "    unseen_movies = all_movies - seen_movies\n",
    "    unseen_movies = [movie for movie in all_movies if movie not in seen_movies and movie not in added_movies]\n",
    "    unseen_movies = list(unseen_movies)\n",
    "    random.shuffle(unseen_movies)\n",
    "    unseen_movies = unseen_movies[:900]\n",
    "    added_movies.update(set(unseen_movies))\n",
    "    df_unseen = df[df['Title'].isin(unseen_movies)]\n",
    "    movie_df_dict[user_id] = df_unseen"
   ]
  },
  {
   "cell_type": "markdown",
   "id": "83b4053c",
   "metadata": {},
   "source": [
    "### Get scale of X_train and transform unseen datasets"
   ]
  },
  {
   "cell_type": "code",
   "execution_count": 5,
   "id": "3c25b1db",
   "metadata": {},
   "outputs": [],
   "source": [
    "from sklearn.model_selection import train_test_split\n",
    "\n",
    "x = df.loc[:, df.columns != \"User_Rating\"]\n",
    "y = df.loc[:, df.columns == 'User_Rating']\n",
    "X_train, X_test, Y_train, Y_test = train_test_split(x, y, test_size=0.2, random_state= 123)"
   ]
  },
  {
   "cell_type": "code",
   "execution_count": 6,
   "id": "290fbb60",
   "metadata": {},
   "outputs": [],
   "source": [
    "#fill na values with mean\n",
    "X_train['Votes'] = X_train['Votes'].fillna(X_train['Votes'].mean())\n",
    "X_test['Votes'] = X_test['Votes'].fillna(X_test['Votes'].mean())\n",
    "\n",
    "X_train['duration_mins'] = X_train['duration_mins'].fillna(X_train['duration_mins'].mean())\n",
    "X_test['duration_mins'] = X_test['duration_mins'].fillna(X_test['duration_mins'].mean())\n",
    "\n",
    "X_train['sentiment_score'] = X_train['sentiment_score'].fillna(X_train['sentiment_score'].mean())\n",
    "X_test['sentiment_score'] = X_test['sentiment_score'].fillna(X_test['sentiment_score'].mean())\n",
    "\n",
    "scaler = StandardScaler()\n",
    "col_to_scale = ['Votes', 'Movie_Rating', 'num_years_released','duration_mins', 'Brightness', 'Contrast', 'Saturation', 'Hue', 'Texture', 'Entropy', 'Noise']\n",
    "X_train[col_to_scale] = scaler.fit_transform(X_train[col_to_scale])"
   ]
  },
  {
   "cell_type": "code",
   "execution_count": 7,
   "id": "6edeca6a",
   "metadata": {
    "scrolled": false
   },
   "outputs": [],
   "source": [
    "unseen_df_list = []\n",
    "for user_id in movie_df_dict:\n",
    "    df_unseen = movie_df_dict[user_id].copy()\n",
    "    df_unseen.drop(['User_Rating'], axis=1, inplace=True)\n",
    "    df_unseen['UserID'] = user_id\n",
    "    movie_df_dict[user_id] = df_unseen\n",
    "    unseen_df_list.append(df_unseen)"
   ]
  },
  {
   "cell_type": "code",
   "execution_count": 8,
   "id": "fbe99c9e",
   "metadata": {},
   "outputs": [
    {
     "data": {
      "text/plain": [
       "0"
      ]
     },
     "execution_count": 8,
     "metadata": {},
     "output_type": "execute_result"
    }
   ],
   "source": [
    "df_unseen_final = pd.concat(unseen_df_list)\n",
    "df_unseen_final.drop_duplicates(subset=['UserID', 'Title'], keep='first', inplace=True)\n",
    "df_unseen_final.reset_index(drop=True, inplace=True)\n",
    "len(df_unseen_final[df_unseen_final.duplicated(subset='Title', keep=False)])"
   ]
  },
  {
   "cell_type": "code",
   "execution_count": 9,
   "id": "8cf26566",
   "metadata": {},
   "outputs": [],
   "source": [
    "df_unseen_final['Votes'] = df_unseen_final['Votes'].fillna(df_unseen_final['Votes'].mean())\n",
    "df_unseen_final['duration_mins'] = df_unseen_final['duration_mins'].fillna(df_unseen_final['duration_mins'].mean())\n",
    "df_unseen_final['sentiment_score'] = df_unseen_final['sentiment_score'].fillna(df_unseen_final['sentiment_score'].mean())\n",
    "\n",
    "df_unseen_final[col_to_scale] = scaler.transform(df_unseen_final[col_to_scale])\n",
    "df_unseen_final = pd.merge(df_unseen_final, df_preference, on = 'UserID', how = 'left')"
   ]
  },
  {
   "cell_type": "code",
   "execution_count": 10,
   "id": "d0091dcf",
   "metadata": {},
   "outputs": [],
   "source": [
    "def check_pref_genre(row):\n",
    "    if isinstance(row['show_genres'], list):\n",
    "        for ele in row['show_genres']:\n",
    "            if ele in row['Top 3 Genres']:\n",
    "                return 1\n",
    "        return 0\n",
    "    else:\n",
    "        return 0\n",
    "        \n",
    "df_unseen_final['show_genres'] = df_unseen_final['Genre'].apply(lambda x: x.strip().replace(\" \",  \"\").split(\",\")  if isinstance(x, str)  else x)\n",
    "df_unseen_final['is_top3_genre'] = df_unseen_final.apply(check_pref_genre, axis = 1)\n",
    "df_unseen_final['is_top3_year'] = df_unseen_final.apply(lambda x: 1 if str(x['Year'][:4]) in x['Top 3 Years'] else 0, axis = 1)"
   ]
  },
  {
   "cell_type": "code",
   "execution_count": 11,
   "id": "3df49cfd",
   "metadata": {},
   "outputs": [],
   "source": [
    "df_unseen_final.drop(['show_genres', 'Genre', 'Year', 'Top 3 Genres', 'Top 3 Years'], axis=1, inplace=True)"
   ]
  },
  {
   "cell_type": "code",
   "execution_count": 12,
   "id": "72b320b5",
   "metadata": {},
   "outputs": [
    {
     "name": "stdout",
     "output_type": "stream",
     "text": [
      "UserID                     0\n",
      "Title                      0\n",
      "Votes                      0\n",
      "Movie_Rating               0\n",
      "Brightness                 0\n",
      "Contrast                   0\n",
      "Saturation                 0\n",
      "Hue                        0\n",
      "Texture                    0\n",
      "Entropy                    0\n",
      "Noise                      0\n",
      "Colorfulness               0\n",
      "is_top3_genre              0\n",
      "is_top3_year               0\n",
      "num_years_released         0\n",
      "duration_mins              0\n",
      "Ad/SciFi/Fantasy           0\n",
      "Adult                      0\n",
      "Animation                  0\n",
      "Crime/Mystery/Film-Noir    0\n",
      "Drama                      0\n",
      "Family                     0\n",
      "Horror/Thriller            0\n",
      "Music                      0\n",
      "Reality                    0\n",
      "RomCom                     0\n",
      "Short                      0\n",
      "Sport/Action/Adventure     0\n",
      "War/History/Biography      0\n",
      "Western                    0\n",
      "viewer__(Banned)           0\n",
      "viewer__Children           0\n",
      "viewer__GP                 0\n",
      "viewer__M                  0\n",
      "viewer__NC-17              0\n",
      "viewer__PG                 0\n",
      "viewer__R21                0\n",
      "viewer__Unrated            0\n",
      "sentiment_score            0\n",
      "desc_topic__0              0\n",
      "desc_topic__1              0\n",
      "desc_topic__2              0\n",
      "desc_topic__3              0\n",
      "desc_topic__4              0\n",
      "desc_topic__5              0\n",
      "desc_topic__6              0\n",
      "desc_topic__7              0\n",
      "desc_topic__8              0\n",
      "desc_topic__9              0\n",
      "review_topic__0.0          0\n",
      "review_topic__1.0          0\n",
      "review_topic__2.0          0\n",
      "review_topic__3.0          0\n",
      "review_topic__4.0          0\n",
      "review_topic__5.0          0\n",
      "review_topic__6.0          0\n",
      "review_topic__7.0          0\n",
      "review_topic__8.0          0\n",
      "review_topic__9.0          0\n",
      "review_topic__10.0         0\n",
      "review_topic__11.0         0\n",
      "review_topic__12.0         0\n",
      "review_topic__13.0         0\n",
      "review_topic__14.0         0\n",
      "dtype: int64\n"
     ]
    }
   ],
   "source": [
    "nan_counts = df_unseen_final.isna().sum()\n",
    "with pd.option_context('display.max_rows', None, 'display.max_columns', None):\n",
    "    print(nan_counts)"
   ]
  },
  {
   "cell_type": "code",
   "execution_count": 13,
   "id": "b467a24b",
   "metadata": {},
   "outputs": [
    {
     "data": {
      "text/plain": [
       "64"
      ]
     },
     "execution_count": 13,
     "metadata": {},
     "output_type": "execute_result"
    }
   ],
   "source": [
    "len(df_unseen_final.columns)"
   ]
  },
  {
   "cell_type": "code",
   "execution_count": 14,
   "id": "0af7cd15",
   "metadata": {},
   "outputs": [],
   "source": [
    "df_unseen_final.to_csv('../Data_Files/Training_Data/unseen_movies.csv', index = False, encoding='utf-8-sig')"
   ]
  }
 ],
 "metadata": {
  "kernelspec": {
   "display_name": "Python 3 (ipykernel)",
   "language": "python",
   "name": "python3"
  },
  "language_info": {
   "codemirror_mode": {
    "name": "ipython",
    "version": 3
   },
   "file_extension": ".py",
   "mimetype": "text/x-python",
   "name": "python",
   "nbconvert_exporter": "python",
   "pygments_lexer": "ipython3",
   "version": "3.8.16"
  }
 },
 "nbformat": 4,
 "nbformat_minor": 5
}
