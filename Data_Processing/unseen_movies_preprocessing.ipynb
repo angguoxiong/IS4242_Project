{
 "cells": [
  {
   "cell_type": "code",
   "execution_count": 1,
   "id": "294c6326",
   "metadata": {},
   "outputs": [
    {
     "name": "stderr",
     "output_type": "stream",
     "text": [
      "C:\\Users\\chris\\AppData\\Roaming\\Python\\Python38\\site-packages\\scipy\\__init__.py:146: UserWarning: A NumPy version >=1.16.5 and <1.23.0 is required for this version of SciPy (detected version 1.23.5\n",
      "  warnings.warn(f\"A NumPy version >={np_minversion} and <{np_maxversion}\"\n"
     ]
    }
   ],
   "source": [
    "import pandas as pd\n",
    "import numpy as np\n",
    "from sklearn.preprocessing import StandardScaler\n",
    "import random"
   ]
  },
  {
   "cell_type": "code",
   "execution_count": 2,
   "id": "1b004f45",
   "metadata": {},
   "outputs": [],
   "source": [
    "df_numerical = pd.read_csv('numerical_features_cleaned.csv')\n",
    "df_textual = pd.read_csv('textual_features_cleaned.csv')"
   ]
  },
  {
   "cell_type": "code",
   "execution_count": 3,
   "id": "714b30ff",
   "metadata": {},
   "outputs": [],
   "source": [
    "df = pd.merge(df_numerical, df_textual, on=['UserID', 'Title'])"
   ]
  },
  {
   "cell_type": "markdown",
   "id": "4381eae9",
   "metadata": {},
   "source": [
    "# Get dataframe of movies that each user has not seen"
   ]
  },
  {
   "cell_type": "code",
   "execution_count": 4,
   "id": "5c83b7c9",
   "metadata": {},
   "outputs": [],
   "source": [
    "all_movies = list(set(df['Title']))\n",
    "movie_df_dict = {'original': df,\n",
    "                 'ur117926588': None,\n",
    "                 'ur15298231': None,\n",
    "                 'ur1994077': None,\n",
    "                 'ur17646017': None,\n",
    "                 'ur4532636': None,\n",
    "                 'ur22171966': None,\n",
    "                 'ur3223254': None,\n",
    "                 'ur66111139': None,\n",
    "                 'ur63040106': None,\n",
    "                 'ur84924605': None,\n",
    "                 'ur4103165': None,\n",
    "                 'ur59627333': None,\n",
    "                 'ur98435364': None,\n",
    "                 'ur65836273': None,\n",
    "                 'ur44059846': None,\n",
    "                 'ur7813355': None,\n",
    "                 'ur98240498': None,\n",
    "                 'ur59184301': None,\n",
    "                 'ur57691865': None,\n",
    "                 'ur3793011': None}\n",
    "\n",
    "for user_id in movie_df_dict:\n",
    "    if user_id != 'original':\n",
    "        seen_movies = list(set(df[df['UserID'] == user_id]['Title']))\n",
    "        unseen_movies = [movie for movie in all_movies if movie not in seen_movies]\n",
    "        df_unseen = df[df['Title'].isin(unseen_movies)]\n",
    "\n",
    "        movie_df_dict[user_id] = df_unseen"
   ]
  },
  {
   "cell_type": "markdown",
   "id": "83b4053c",
   "metadata": {},
   "source": [
    "### Get scale of X_train and transform unseen datasets"
   ]
  },
  {
   "cell_type": "code",
   "execution_count": 5,
   "id": "3c25b1db",
   "metadata": {},
   "outputs": [],
   "source": [
    "from sklearn.model_selection import train_test_split\n",
    "\n",
    "x = df.loc[:, df.columns != \"User_Rating\"]\n",
    "y = df.loc[:, df.columns == 'User_Rating']\n",
    "X_train, X_test, Y_train, Y_test = train_test_split(x, y, test_size=0.2, random_state= 123)"
   ]
  },
  {
   "cell_type": "code",
   "execution_count": 6,
   "id": "290fbb60",
   "metadata": {},
   "outputs": [],
   "source": [
    "#fill na values with mean\n",
    "X_train['Votes'] = X_train['Votes'].fillna(X_train['Votes'].mean())\n",
    "X_test['Votes'] = X_test['Votes'].fillna(X_test['Votes'].mean())\n",
    "\n",
    "X_train['duration_mins'] = X_train['duration_mins'].fillna(X_train['duration_mins'].mean())\n",
    "X_test['duration_mins'] = X_test['duration_mins'].fillna(X_test['duration_mins'].mean())\n",
    "\n",
    "scaler = StandardScaler()\n",
    "col_to_scale = ['Votes', 'Movie_Rating', 'num_years_released','duration_mins', 'Brightness', 'Contrast', 'Saturation', 'Hue', 'Texture', 'Entropy', 'Noise']\n",
    "X_train[col_to_scale] = scaler.fit_transform(X_train[col_to_scale])"
   ]
  },
  {
   "cell_type": "code",
   "execution_count": 7,
   "id": "6edeca6a",
   "metadata": {
    "scrolled": false
   },
   "outputs": [],
   "source": [
    "unseen_df_list = []\n",
    "for user_id in movie_df_dict:\n",
    "    if user_id != 'original':\n",
    "        df_unseen = movie_df_dict[user_id].copy()\n",
    "        df_unseen.dropna(inplace=True)\n",
    "        \n",
    "        df_unseen[col_to_scale] = scaler.transform(df_unseen[col_to_scale])\n",
    "\n",
    "        df_unseen = df_unseen.iloc[:min(1000, len(df_unseen)), :]\n",
    "        df_unseen.drop(['User_Rating', 'Title'], axis=1, inplace=True)\n",
    "        \n",
    "        df_unseen['UserID'] = user_id\n",
    "        \n",
    "        movie_df_dict[user_id] = df_unseen\n",
    "        \n",
    "        unseen_df_list.append(df_unseen)"
   ]
  },
  {
   "cell_type": "code",
   "execution_count": 8,
   "id": "e9a3ebfd",
   "metadata": {},
   "outputs": [],
   "source": [
    "df_unseen_final = pd.concat(unseen_df_list)\n",
    "df_unseen_final.drop_duplicates(inplace=True)\n",
    "df_unseen_final.reset_index(drop=True, inplace=True)"
   ]
  },
  {
   "cell_type": "code",
   "execution_count": 13,
   "id": "0af7cd15",
   "metadata": {},
   "outputs": [],
   "source": [
    "df_unseen_final.to_csv('../Data_Files/Training_Data/unseen_movies.csv', index = False, encoding='utf-8-sig')"
   ]
  }
 ],
 "metadata": {
  "kernelspec": {
   "display_name": "Python 3 (ipykernel)",
   "language": "python",
   "name": "python3"
  },
  "language_info": {
   "codemirror_mode": {
    "name": "ipython",
    "version": 3
   },
   "file_extension": ".py",
   "mimetype": "text/x-python",
   "name": "python",
   "nbconvert_exporter": "python",
   "pygments_lexer": "ipython3",
   "version": "3.8.16"
  }
 },
 "nbformat": 4,
 "nbformat_minor": 5
}
