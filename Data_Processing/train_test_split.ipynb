{
 "cells": [
  {
   "cell_type": "code",
   "execution_count": 1,
   "metadata": {},
   "outputs": [],
   "source": [
    "import pandas as pd"
   ]
  },
  {
   "cell_type": "code",
   "execution_count": null,
   "metadata": {},
   "outputs": [],
   "source": [
    "df_numerical = df.read_csv('numerical_features_cleaned.csv')\n",
    "df_textual = df.read_csv('textual_features.csv')\n"
   ]
  },
  {
   "cell_type": "code",
   "execution_count": null,
   "metadata": {},
   "outputs": [],
   "source": [
    "from sklearn.model_selection import train_test_split\n",
    "\n",
    "x = df.loc[:, df_final.columns != \"User_Rating\"]\n",
    "y = df.loc[:, df_final.columns == 'User_Rating']\n",
    "\n",
    "\n",
    "X_train, X_test, Y_train, Y_test = train_test_split(x, y, test_size=0.2, random_state= 123)"
   ]
  },
  {
   "cell_type": "code",
   "execution_count": null,
   "metadata": {},
   "outputs": [],
   "source": [
    "#fill na values with mean\n",
    "X_train['Votes'] = X_train['Votes'].fillna(X_train['Votes'].mean())\n",
    "X_test['Votes'] = X_test['Votes'].fillna(X_test['Votes'].mean())\n",
    "\n",
    "X_train['duration_mins'] = X_train['duration_mins'].fillna(X_train['duration_mins'].mean())\n",
    "X_test['duration_mins'] = X_test['duration_mins'].fillna(X_test['duration_mins'].mean())\n",
    "\n",
    "scaler = StandardScaler()\n",
    "col_to_scale = ['Votes', 'Movie_Rating', 'num_years_released','duration_mins']\n",
    "X_train[col_to_scale] = scaler.fit_transform(X_train[col_to_scale])\n",
    "X_test[col_to_scale] = scaler.fit_transform(X_test[col_to_scale])\n"
   ]
  },
  {
   "cell_type": "code",
   "execution_count": null,
   "metadata": {},
   "outputs": [],
   "source": [
    "# X_train.to_csv('../Data Files/Training Data/x_train.csv', index= False)\n",
    "# X_test.to_csv('../Data Files/Training Data/x_test.csv', index= False)\n",
    "\n",
    "# Y_train.to_csv('../Data Files/Training Data/y_train.csv', index=False)\n",
    "# Y_test.to_csv('../Data Files/Training Data/y_test.csv', index=False)"
   ]
  }
 ],
 "metadata": {
  "kernelspec": {
   "display_name": "Python 3",
   "language": "python",
   "name": "python3"
  },
  "language_info": {
   "codemirror_mode": {
    "name": "ipython",
    "version": 3
   },
   "file_extension": ".py",
   "mimetype": "text/x-python",
   "name": "python",
   "nbconvert_exporter": "python",
   "pygments_lexer": "ipython3",
   "version": "3.7.6"
  },
  "orig_nbformat": 4
 },
 "nbformat": 4,
 "nbformat_minor": 2
}
