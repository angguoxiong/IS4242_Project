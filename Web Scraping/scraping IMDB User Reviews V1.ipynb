{
 "cells": [
  {
   "cell_type": "code",
   "execution_count": 70,
   "id": "60b4cdf4",
   "metadata": {},
   "outputs": [],
   "source": [
    "import requests\n",
    "from bs4 import BeautifulSoup\n",
    "import csv\n",
    "import pandas as pd\n",
    "import re"
   ]
  },
  {
   "cell_type": "code",
   "execution_count": 71,
   "id": "bc61f443",
   "metadata": {},
   "outputs": [],
   "source": [
    "# base_url = 'https://www.imdb.com'\n",
    "# user_id = 'ur17402378', 'ur3608743'\n",
    "# url = f'{base_url}/user/{user_id}/?ref_=tt_urv'"
   ]
  },
  {
   "cell_type": "code",
   "execution_count": 72,
   "id": "753b851f",
   "metadata": {},
   "outputs": [],
   "source": [
    "base_url = 'https://www.imdb.com'\n",
    "user_ids = ['ur17402378']\n",
    "review_list = []\n",
    "\n",
    "for user_id in user_ids:\n",
    "    url = f'{base_url}/user/{user_id}/reviews'\n",
    "\n",
    "    response = requests.get(url)\n",
    "    soup = BeautifulSoup(response.content, \"html.parser\")\n",
    "\n",
    "    # find all rows in histogram\n",
    "    content = soup.find_all(\"div\", {\"class\": \"lister-item-content\"})\n",
    "    for div in content:\n",
    "        title = div.find(\"div\", {\"class\": \"lister-item-header\"})\n",
    "        movie_elem = title.find(\"a\", {\"class\": ''})\n",
    "        if movie_elem is not None:\n",
    "            movie = movie_elem.text.strip()\n",
    "        else:\n",
    "            movie = ''\n",
    "        review_title = div.find(\"a\", {\"class\": \"title\"}).text.strip()\n",
    "        rev = div.find(\"div\", {\"class\": \"content\"})\n",
    "        review = rev.find(\"div\", {\"class\": \"text\"}).text.strip()\n",
    "\n",
    "        review_list.append({'movie': movie,'title': review_title, 'review': review})\n",
    "\n",
    "df = pd.DataFrame(review_list)"
   ]
  },
  {
   "cell_type": "code",
   "execution_count": 73,
   "id": "06a2509d",
   "metadata": {},
   "outputs": [],
   "source": [
    "df = pd.DataFrame(review_list)\n",
    "filename = 'users_reviews.csv'\n",
    "df.to_csv(filename, index=False)"
   ]
  },
  {
   "cell_type": "code",
   "execution_count": null,
   "id": "4abf5e58",
   "metadata": {},
   "outputs": [],
   "source": []
  }
 ],
 "metadata": {
  "kernelspec": {
   "display_name": "Python 3 (ipykernel)",
   "language": "python",
   "name": "python3"
  },
  "language_info": {
   "codemirror_mode": {
    "name": "ipython",
    "version": 3
   },
   "file_extension": ".py",
   "mimetype": "text/x-python",
   "name": "python",
   "nbconvert_exporter": "python",
   "pygments_lexer": "ipython3",
   "version": "3.9.13"
  }
 },
 "nbformat": 4,
 "nbformat_minor": 5
}
